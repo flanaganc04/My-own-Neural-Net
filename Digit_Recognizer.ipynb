{
  "nbformat": 4,
  "nbformat_minor": 0,
  "metadata": {
    "colab": {
      "provenance": [],
      "authorship_tag": "ABX9TyMIe7MMuIdy7yBFwLdjeFvP",
      "include_colab_link": true
    },
    "kernelspec": {
      "name": "python3",
      "display_name": "Python 3"
    },
    "language_info": {
      "name": "python"
    }
  },
  "cells": [
    {
      "cell_type": "markdown",
      "metadata": {
        "id": "view-in-github",
        "colab_type": "text"
      },
      "source": [
        "<a href=\"https://colab.research.google.com/github/flanaganc04/My-own-Neural-Net/blob/main/Digit_Recognizer.ipynb\" target=\"_parent\"><img src=\"https://colab.research.google.com/assets/colab-badge.svg\" alt=\"Open In Colab\"/></a>"
      ]
    },
    {
      "cell_type": "code",
      "execution_count": null,
      "metadata": {
        "id": "WVg2-ZWamHmU"
      },
      "outputs": [],
      "source": [
        "# Import packages\n",
        "from google.colab import drive\n",
        "import os\n",
        "import datetime\n",
        "import matplotlib as mpl\n",
        "import matplotlib.pyplot as plt\n",
        "import numpy as np\n",
        "import pandas as pd\n",
        "import random"
      ]
    },
    {
      "cell_type": "code",
      "source": [
        "# Mount Google Drive and try not to get yelled at\n",
        "drive.mount('/content/drive')"
      ],
      "metadata": {
        "colab": {
          "base_uri": "https://localhost:8080/"
        },
        "id": "PCOcf0EUkzoU",
        "outputId": "a563becf-6f07-480b-f333-edcae3556a80"
      },
      "execution_count": null,
      "outputs": [
        {
          "output_type": "stream",
          "name": "stdout",
          "text": [
            "Mounted at /content/drive\n"
          ]
        }
      ]
    },
    {
      "cell_type": "code",
      "source": [
        "# Import data\n",
        "train_data = pd.read_csv('/content/drive/MyDrive/Digit Recognizer/mnist_test.csv')\n",
        "test_data = pd.read_csv('/content/drive/MyDrive/Digit Recognizer/mnist_train.csv')\n",
        "X_train = train_data.iloc[1:, 1:]  # Features\n",
        "X_train_np = X_train.to_numpy()\n",
        "# print(X_train)\n",
        "Y_train = train_data.iloc[1:, 0:1]   # Target variable\n",
        "Y_train_np = Y_train.to_numpy()\n",
        "# print(Y_train)\n",
        "X_test = test_data.iloc[1:, 2:-1]  # Features\n",
        "X_test_np = X_test.to_numpy()\n",
        "# print(X_test)\n",
        "Y_test = test_data.iloc[1:, 0:1]   # Target variable\n",
        "Y_test_np = Y_test.to_numpy()\n",
        "# print(Y_test)"
      ],
      "metadata": {
        "id": "r32uLwu5muxd"
      },
      "execution_count": null,
      "outputs": []
    },
    {
      "cell_type": "code",
      "source": [
        "# Make a Weight Matrix of random values between 0-1. The grayscale values are between 0-255. If this needs to be a larger value than we can change the random function's bounds.\n",
        "neurons = 25\n",
        "weightMatrix = np.random.random((neurons, X_train_np.shape[1]))\n",
        "print(weightMatrix.shape)"
      ],
      "metadata": {
        "colab": {
          "base_uri": "https://localhost:8080/"
        },
        "id": "qa_0tVK1hgpR",
        "outputId": "2bf6d9eb-d8b2-4c52-8056-c4a0037de58b"
      },
      "execution_count": null,
      "outputs": [
        {
          "output_type": "stream",
          "name": "stdout",
          "text": [
            "(25, 784)\n"
          ]
        }
      ]
    },
    {
      "cell_type": "code",
      "source": [
        "# Create a temporary matrix to hold some stuff, mainly, we are multiplying all the inputs by all of their respective weights\n",
        "tempMatrix = X_train_np @ weightMatrix.T\n",
        "print(tempMatrix)"
      ],
      "metadata": {
        "id": "mnbKwWsIp_M7",
        "colab": {
          "base_uri": "https://localhost:8080/"
        },
        "outputId": "7fd95e83-3b1b-4d96-d123-35690d39916f"
      },
      "execution_count": null,
      "outputs": [
        {
          "output_type": "stream",
          "name": "stdout",
          "text": [
            "[[14505.53620397 14773.18199591 13125.82916944 ... 12868.29869754\n",
            "  14304.94868003 14449.38272418]\n",
            " [ 4844.64117161  5074.65507991  4587.35242081 ...  4739.65721499\n",
            "   4923.92253419  5310.37347895]\n",
            " [19253.36171263 18386.37978752 18175.76709188 ... 19452.76319973\n",
            "  17615.75898388 17210.91273216]\n",
            " ...\n",
            " [14083.18531359 14655.91483438 13509.58971627 ... 13879.12934584\n",
            "  14797.72751391 14996.83316084]\n",
            " [13427.18629871 13318.86571755 11570.67890967 ... 12382.66208232\n",
            "  12371.40117783 12631.53409723]\n",
            " [22190.44043965 21239.98466856 20522.280949   ... 21754.39473775\n",
            "  20693.59673232 21022.65537124]]\n"
          ]
        }
      ]
    },
    {
      "cell_type": "code",
      "source": [
        "neurons2 = 10\n",
        "weightMatrix = np.random.random((neurons2,tempMatrix.shape[1]))\n",
        "print(weightMatrix)"
      ],
      "metadata": {
        "id": "ZtCii97GuTJg",
        "colab": {
          "base_uri": "https://localhost:8080/"
        },
        "outputId": "37fba46d-e5c9-409f-d3e3-4c03472f99a0"
      },
      "execution_count": null,
      "outputs": [
        {
          "output_type": "stream",
          "name": "stdout",
          "text": [
            "[[0.62412981 0.02972546 0.45966214 0.19685961 0.46703672 0.4713535\n",
            "  0.95246991 0.71967473 0.18394368 0.0957994  0.13890118 0.85829297\n",
            "  0.14974315 0.76453643 0.69474274 0.405884   0.44162082 0.79168794\n",
            "  0.47316992 0.50592281 0.53299922 0.80014451 0.36844845 0.44498404\n",
            "  0.10053206]\n",
            " [0.10492346 0.04538128 0.89189924 0.94283637 0.80555282 0.28752237\n",
            "  0.54707889 0.5744783  0.54719457 0.43719375 0.98906432 0.20073653\n",
            "  0.82291029 0.94913478 0.76878913 0.25290345 0.40799349 0.81475906\n",
            "  0.2567998  0.04572404 0.08300348 0.94001044 0.35387638 0.18341686\n",
            "  0.08601331]\n",
            " [0.64231567 0.10787929 0.78578143 0.02258376 0.93987102 0.53088376\n",
            "  0.39286998 0.94286969 0.61696648 0.91353635 0.64786568 0.51188723\n",
            "  0.88472958 0.78927181 0.18981289 0.85875625 0.75053671 0.42182344\n",
            "  0.68740511 0.53695353 0.20926966 0.95089065 0.34773329 0.77008511\n",
            "  0.44603894]\n",
            " [0.41434536 0.6127555  0.13806392 0.82874415 0.77821887 0.14510759\n",
            "  0.15206064 0.47130714 0.48903337 0.92966955 0.54348914 0.47958577\n",
            "  0.53262908 0.38852377 0.42094844 0.77867044 0.43783876 0.13683147\n",
            "  0.38788264 0.64024174 0.07556663 0.77269903 0.49420422 0.19051713\n",
            "  0.88305621]\n",
            " [0.41938111 0.62633701 0.37081669 0.95659874 0.28740489 0.38124833\n",
            "  0.49580013 0.38467975 0.90038817 0.45258935 0.63562141 0.32477075\n",
            "  0.79702936 0.98522891 0.42998937 0.32835873 0.37767444 0.89199995\n",
            "  0.22673292 0.59814108 0.15177547 0.74463536 0.98381881 0.67853956\n",
            "  0.05788752]\n",
            " [0.65720505 0.95879957 0.59189772 0.06966872 0.37247659 0.43191962\n",
            "  0.50101238 0.44557781 0.00424825 0.84354072 0.05102441 0.21930204\n",
            "  0.46287468 0.71887748 0.96291313 0.01605615 0.05928261 0.64261528\n",
            "  0.40939484 0.71197043 0.42179492 0.46305603 0.55147219 0.13076636\n",
            "  0.29282278]\n",
            " [0.12854105 0.44349946 0.92528455 0.84280683 0.65409378 0.27848054\n",
            "  0.52200837 0.68942019 0.95143098 0.39549814 0.34323144 0.27134829\n",
            "  0.59814591 0.66258359 0.32111392 0.48942783 0.76703251 0.53295099\n",
            "  0.39038797 0.7712604  0.6452762  0.58815373 0.56288729 0.67506532\n",
            "  0.10122062]\n",
            " [0.97216102 0.35012181 0.19074035 0.54656396 0.03901901 0.48680216\n",
            "  0.47167478 0.75890028 0.07530924 0.63753212 0.06350694 0.35538985\n",
            "  0.74008319 0.20624702 0.64912087 0.96328643 0.36035611 0.46380982\n",
            "  0.3534603  0.19855736 0.90607029 0.53704285 0.99399442 0.15389169\n",
            "  0.34550655]\n",
            " [0.89792366 0.85298104 0.74757612 0.21410435 0.95675379 0.33154918\n",
            "  0.29490642 0.6702702  0.08466088 0.68183766 0.99490965 0.44287901\n",
            "  0.06557904 0.61953347 0.9234271  0.71090222 0.01456569 0.30377884\n",
            "  0.4787285  0.17208252 0.50652389 0.67861461 0.74416861 0.87050443\n",
            "  0.41485498]\n",
            " [0.35384362 0.31859546 0.47015293 0.83481941 0.33073973 0.67707735\n",
            "  0.79741592 0.50595045 0.40591625 0.87705422 0.00385966 0.42070268\n",
            "  0.24214196 0.76208405 0.12521107 0.69835721 0.90836073 0.24474661\n",
            "  0.64355759 0.97722267 0.91518577 0.45561308 0.12917532 0.58941965\n",
            "  0.90363895]]\n"
          ]
        }
      ]
    },
    {
      "cell_type": "code",
      "source": [
        "tempMatrix = tempMatrix@weightMatrix.T\n",
        "print(tempMatrix)"
      ],
      "metadata": {
        "colab": {
          "base_uri": "https://localhost:8080/"
        },
        "id": "GacZSMOUeWI9",
        "outputId": "3cace728-1c4e-41ec-b188-962e3b0226eb"
      },
      "execution_count": null,
      "outputs": [
        {
          "output_type": "stream",
          "name": "stdout",
          "text": [
            "[[165332.89302241 176795.78121748 214239.79324447 ... 168234.51319957\n",
            "  195054.37208384 193999.90665916]\n",
            " [ 56475.41344958  60024.91251304  72569.66158087 ...  57618.92669755\n",
            "   67127.1963385   65864.10464369]\n",
            " [213201.57460776 227292.24536268 273437.62840906 ... 219126.02903563\n",
            "  252104.08823695 246994.2900712 ]\n",
            " ...\n",
            " [169739.09910273 179785.21318866 216625.00672499 ... 172127.34808517\n",
            "  198961.04809997 197743.35449605]\n",
            " [152628.42944091 163078.02828715 196037.41883597 ... 156376.31682731\n",
            "  179848.92364276 177685.62047105]\n",
            " [244656.97754116 256520.58494792 312651.51763926 ... 251424.51454579\n",
            "  286745.55311089 285341.18617631]]\n"
          ]
        }
      ]
    },
    {
      "cell_type": "code",
      "source": [
        "biasMatrix = np.ones((1,10))\n",
        "biasMatrix = np.array(biasMatrix)\n",
        "outputMatrix = tempMatrix + biasMatrix\n",
        "print(outputMatrix)"
      ],
      "metadata": {
        "colab": {
          "base_uri": "https://localhost:8080/"
        },
        "id": "hCD8tDoRovyB",
        "outputId": "a62eb93d-3c28-4524-dfd7-b3f1d1d19699"
      },
      "execution_count": null,
      "outputs": [
        {
          "output_type": "stream",
          "name": "stdout",
          "text": [
            "[[165333.89302241 176796.78121748 214240.79324447 ... 168235.51319957\n",
            "  195055.37208384 194000.90665916]\n",
            " [ 56476.41344958  60025.91251304  72570.66158087 ...  57619.92669755\n",
            "   67128.1963385   65865.10464369]\n",
            " [213202.57460776 227293.24536268 273438.62840906 ... 219127.02903563\n",
            "  252105.08823695 246995.2900712 ]\n",
            " ...\n",
            " [169740.09910273 179786.21318866 216626.00672499 ... 172128.34808517\n",
            "  198962.04809997 197744.35449605]\n",
            " [152629.42944091 163079.02828715 196038.41883597 ... 156377.31682731\n",
            "  179849.92364276 177686.62047105]\n",
            " [244657.97754116 256521.58494792 312652.51763926 ... 251425.51454579\n",
            "  286746.55311089 285342.18617631]]\n"
          ]
        }
      ]
    },
    {
      "cell_type": "code",
      "source": [
        "row_sums = np.sum(outputMatrix, axis=0)\n",
        "print(row_sums)"
      ],
      "metadata": {
        "colab": {
          "base_uri": "https://localhost:8080/"
        },
        "id": "TDnC1IFEwRdP",
        "outputId": "276f5f20-6a58-43e2-a05d-e6b88f9de094"
      },
      "execution_count": null,
      "outputs": [
        {
          "output_type": "stream",
          "name": "stdout",
          "text": [
            "[1.53931827e+09 1.62578801e+09 1.97530149e+09 1.60550269e+09\n",
            " 1.77665937e+09 1.45661264e+09 1.78278823e+09 1.57426976e+09\n",
            " 1.81189778e+09 1.79100315e+09]\n"
          ]
        }
      ]
    },
    {
      "cell_type": "code",
      "source": [
        "rowEuler = np.exp(row_sums)\n",
        "print(rowEuler)"
      ],
      "metadata": {
        "colab": {
          "base_uri": "https://localhost:8080/"
        },
        "id": "PmhPAn0OwamY",
        "outputId": "ffe81f2d-5c85-4d1d-fac6-9f029b4fce41"
      },
      "execution_count": null,
      "outputs": [
        {
          "output_type": "stream",
          "name": "stdout",
          "text": [
            "[inf inf inf inf inf inf inf inf inf inf]\n"
          ]
        },
        {
          "output_type": "stream",
          "name": "stderr",
          "text": [
            "/tmp/ipython-input-3617419787.py:1: RuntimeWarning: overflow encountered in exp\n",
            "  rowEuler = np.exp(row_sums)\n"
          ]
        }
      ]
    },
    {
      "cell_type": "code",
      "source": [],
      "metadata": {
        "id": "3kRkeIA3wkdV"
      },
      "execution_count": null,
      "outputs": []
    }
  ]
}