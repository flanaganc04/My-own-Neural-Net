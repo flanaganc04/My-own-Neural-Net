{
  "nbformat": 4,
  "nbformat_minor": 0,
  "metadata": {
    "colab": {
      "provenance": [],
      "include_colab_link": true
    },
    "kernelspec": {
      "name": "python3",
      "display_name": "Python 3"
    },
    "language_info": {
      "name": "python"
    }
  },
  "cells": [
    {
      "cell_type": "markdown",
      "metadata": {
        "id": "view-in-github",
        "colab_type": "text"
      },
      "source": [
        "<a href=\"https://colab.research.google.com/github/flanaganc04/My-own-Neural-Net/blob/main/Digit_Recognizer.ipynb\" target=\"_parent\"><img src=\"https://colab.research.google.com/assets/colab-badge.svg\" alt=\"Open In Colab\"/></a>"
      ]
    },
    {
      "cell_type": "markdown",
      "source": [
        "# Import Packages"
      ],
      "metadata": {
        "id": "nceuyrNqsD2x"
      }
    },
    {
      "cell_type": "code",
      "execution_count": 53,
      "metadata": {
        "id": "WVg2-ZWamHmU"
      },
      "outputs": [],
      "source": [
        "from google.colab import drive\n",
        "import os\n",
        "import datetime\n",
        "# import matplotlib as mpl\n",
        "# import matplotlib.pyplot as plt\n",
        "import numpy as np\n",
        "import pandas as pd\n",
        "import random\n",
        "import math"
      ]
    },
    {
      "cell_type": "markdown",
      "source": [
        "# Mount Google Drive"
      ],
      "metadata": {
        "id": "1VLs8QoVsHuZ"
      }
    },
    {
      "cell_type": "code",
      "source": [
        "# Mount Google Drive and try not to get yelled at\n",
        "drive.mount('/content/drive')"
      ],
      "metadata": {
        "colab": {
          "base_uri": "https://localhost:8080/"
        },
        "id": "PCOcf0EUkzoU",
        "outputId": "a9973c63-8142-472c-85db-e17033a1aaf9"
      },
      "execution_count": 54,
      "outputs": [
        {
          "output_type": "stream",
          "name": "stdout",
          "text": [
            "Drive already mounted at /content/drive; to attempt to forcibly remount, call drive.mount(\"/content/drive\", force_remount=True).\n"
          ]
        }
      ]
    },
    {
      "cell_type": "markdown",
      "source": [
        "# Functions"
      ],
      "metadata": {
        "id": "0jqKrFF9sPn1"
      }
    },
    {
      "cell_type": "code",
      "source": [
        "def hiddenLayer(neurons: int, matrix: np.ndarray) -> np.ndarray:\n",
        "    \"\"\"\n",
        "    Builds a random weight matrix, multiplies it by the transpose\n",
        "    of the input matrix, and returns the resulting hidden layer matrix and weight matrix for later in backpropagation.\n",
        "\n",
        "    Parameters\n",
        "    ----------\n",
        "    neurons : int\n",
        "        Number of neurons in the layer.\n",
        "    matrix : np.ndarray\n",
        "        Input data (e.g., training or testing data).\n",
        "\n",
        "    Returns\n",
        "    -------\n",
        "    np.ndarray\n",
        "        The computed hidden layer matrix and the weight matrix.\n",
        "    \"\"\"\n",
        "\n",
        "    # Create a random weight matrix with values uniformly distributed between -1 and 1\n",
        "    weightMatrix = np.random.uniform(low=-1.0, high=1.0, size=(neurons, matrix.shape[1]))\n",
        "    # Compute the hidden layer activations by performing matrix multiplication\n",
        "    hiddenMatrix = matrix @ weightMatrix.T\n",
        "    # Return both the hidden layer activations and the weight matrix\n",
        "    return hiddenMatrix, weightMatrix"
      ],
      "metadata": {
        "id": "cxRtk4vTm-cC"
      },
      "execution_count": 55,
      "outputs": []
    },
    {
      "cell_type": "code",
      "source": [
        "def softMax(matrix: np.ndarray) -> np.ndarray:\n",
        "  \"\"\"\n",
        "    Takes a matrix, and applies the soft max function to each element. x_i,j = e^(x_i,j)/sum(e^(x_i,j)). So take the exponential of the rows, sum it, and divide each element by that sum.\n",
        "\n",
        "    Parameters\n",
        "    ----------\n",
        "    matrix : np.ndarray\n",
        "        Array in which soft max should be applied (e.g., hidden layer or output layer).\n",
        "\n",
        "    Returns\n",
        "    -------\n",
        "    np.ndarray\n",
        "        The computed soft max matrix.\n",
        "    \"\"\"\n",
        "  for y in range(matrix.shape[0]):\n",
        "    sum = 0\n",
        "    # Compute the denominator: sum of exponentials for each row\n",
        "    try:\n",
        "      for x in range(matrix.shape[1]):\n",
        "        sum += math.exp(matrix[y][x])\n",
        "    except OverflowError:\n",
        "      print(f'Sum e^(x_i) OverflowError: row:{y} and column:{x}')\n",
        "    except ZeroDivisionError:\n",
        "      print(f'Sum e^(x_i) OverflowError: row:{y} and column:{x}')\n",
        "    # Apply softmax normalization for each element in the row\n",
        "    try:\n",
        "      for x in range(matrix.shape[1]):\n",
        "        matrix[y][x] = math.exp(matrix[y][x]) / sum\n",
        "    except OverflowError:\n",
        "      print(f'[e^(x_i)/sum] OverflowError: row:{y} and column:{x}')\n",
        "    except ZeroDivisionError:\n",
        "      print(f'[e^(x_i)/sum] OverflowError: row:{y} and column:{x}')\n",
        "  # Return the softmax-normalized matrix\n",
        "  return matrix"
      ],
      "metadata": {
        "id": "X8dvV0DKw0rM"
      },
      "execution_count": 56,
      "outputs": []
    },
    {
      "cell_type": "code",
      "source": [
        "def OneHotEncoder(matrix: np.ndarray) -> np.ndarray:\n",
        "    \"\"\"\n",
        "    Convert an integer label matrix (values 0..N) into a one-hot encoded matrix.\n",
        "\n",
        "    Parameters\n",
        "    ----------\n",
        "    matrix : np.ndarray\n",
        "        Input array of integer class labels (shape: (n_samples,) or (n_samples, 1)).\n",
        "\n",
        "    Returns\n",
        "    -------\n",
        "    one_hot_matrix : np.ndarray\n",
        "        One-hot encoded array of shape (n_samples, num_classes).\n",
        "    \"\"\"\n",
        "    # Ensure integer dtype (in case it's float or object from pandas)\n",
        "    matrix = matrix.astype(int).flatten()\n",
        "    # Determine number of classes (assumes classes are labeled 0..N)\n",
        "    num_classes = np.max(matrix) + 1\n",
        "    # Create one-hot encoding\n",
        "    one_hot_matrix = np.eye(num_classes)[matrix]\n",
        "    return one_hot_matrix"
      ],
      "metadata": {
        "id": "hnYLI_vy14CV"
      },
      "execution_count": 57,
      "outputs": []
    },
    {
      "cell_type": "markdown",
      "source": [
        "# Read Data"
      ],
      "metadata": {
        "id": "T5LZdokSsRwI"
      }
    },
    {
      "cell_type": "code",
      "source": [
        "# Import data\n",
        "test_data = pd.read_csv('/content/drive/MyDrive/Digit Recognizer/mnist_test.csv')\n",
        "train_data = pd.read_csv('/content/drive/MyDrive/Digit Recognizer/mnist_train.csv')\n",
        "\n",
        "X_train = train_data.iloc[0:, 1:]  # Features\n",
        "X_train_np = X_train.to_numpy() *(1/255)#\n",
        "# print(X_train_np[0])\n",
        "\n",
        "Y_train = train_data.iloc[0:, 0:1]   # Target variable\n",
        "Y_train_np = Y_train.to_numpy()\n",
        "# print(Y_train)\n",
        "\n",
        "X_test = test_data.iloc[1:, 1:]  # Features\n",
        "X_test_np = X_test.to_numpy() *(1/255)\n",
        "# print(X_test)\n",
        "\n",
        "Y_test = test_data.iloc[1:, 0:1]   # Target variable\n",
        "Y_test_np = Y_test.to_numpy()\n",
        "# print(Y_test)"
      ],
      "metadata": {
        "id": "r32uLwu5muxd",
        "collapsed": true
      },
      "execution_count": 58,
      "outputs": []
    },
    {
      "cell_type": "markdown",
      "source": [
        "# Forward Propagation 1"
      ],
      "metadata": {
        "id": "HmFy5EZsscgp"
      }
    },
    {
      "cell_type": "code",
      "source": [
        "# Make layer 1\n",
        "layer1, weights1 = hiddenLayer(25, X_train_np)\n",
        "softLayer1 = softMax(layer1)"
      ],
      "metadata": {
        "id": "qa_0tVK1hgpR",
        "collapsed": true
      },
      "execution_count": 59,
      "outputs": []
    },
    {
      "cell_type": "code",
      "source": [
        "# Make layer 2\n",
        "layer2, weights2 = hiddenLayer(10, softLayer1)\n",
        "softLayer2 = softMax(layer2)"
      ],
      "metadata": {
        "id": "ZtCii97GuTJg",
        "collapsed": true
      },
      "execution_count": 60,
      "outputs": []
    },
    {
      "cell_type": "code",
      "source": [
        "# print(layer2[5])"
      ],
      "metadata": {
        "id": "fc3gqtSa1FuY",
        "collapsed": true
      },
      "execution_count": 61,
      "outputs": []
    },
    {
      "cell_type": "code",
      "source": [
        "biasMatrix = np.ones(softLayer2.shape)\n",
        "biasMatrix = np.array(biasMatrix)\n",
        "outputMatrix = softLayer2 + biasMatrix\n",
        "# print(outputMatrix[0])"
      ],
      "metadata": {
        "id": "hCD8tDoRovyB"
      },
      "execution_count": 62,
      "outputs": []
    },
    {
      "cell_type": "code",
      "source": [
        "softOput = softMax(outputMatrix)\n",
        "# print(softOput[0])"
      ],
      "metadata": {
        "id": "PmhPAn0OwamY"
      },
      "execution_count": 63,
      "outputs": []
    },
    {
      "cell_type": "markdown",
      "source": [
        "# Back Propagation 1"
      ],
      "metadata": {
        "id": "AT078cwnsiyZ"
      }
    },
    {
      "cell_type": "code",
      "source": [
        "# cce for the 2nd hidden layer\n",
        "Y_train_onehot = OneHotEncoder(Y_train_np)\n",
        "# print(Y_train_onehot.shape)\n",
        "# print(Y_train_onehot)\n",
        "output_square = Y_train_onehot\n",
        "logOput = np.log(softOput)\n",
        "CCE = -np.sum((output_square * logOput), axis = 1)\n",
        "CCE_avg = np.mean(CCE)\n",
        "# print(CCE_avg)\n",
        "# print(CCE)"
      ],
      "metadata": {
        "id": "cgRQuwoo1ykM"
      },
      "execution_count": 64,
      "outputs": []
    },
    {
      "cell_type": "code",
      "source": [
        "# ∂CCCE/∂W\n",
        "# backprop layer for the 2nd hidden layer\n",
        "partial_cost_predictions = -logOput\n",
        "partial_activation_weightsum = np.ones(logOput.shape)\n",
        "partial_weightsum_weight = layer2\n",
        "partial_weightsum_bias = np.ones(layer2.shape)\n",
        "\n",
        "gradient_w = partial_cost_predictions * partial_activation_weightsum * partial_weightsum_weight\n",
        "gradient_b = partial_cost_predictions * partial_activation_weightsum * partial_weightsum_bias\n",
        "avg_grad_w = np.mean(gradient_w, axis = 0, keepdims=True)\n",
        "avg_grad_b = np.mean(gradient_b, axis = 0, keepdims=True)\n",
        "# print(avg_grad_w)\n",
        "# print(avg_grad_w)"
      ],
      "metadata": {
        "id": "mO8pvWe6u_CT"
      },
      "execution_count": 65,
      "outputs": []
    },
    {
      "cell_type": "code",
      "source": [
        "# ∂CCCE/∂W\n",
        "# backprop layer for the 1st hidden layer\n",
        "partial_cost_predictions2_sum2 = softOput - Y_train_onehot*(1/Y_train_onehot.shape[1])\n",
        "partial_weightsum2_weight2 =\n",
        "partial_weight2_predictions1 =\n",
        "partial_predictions1_weightsum1 = softLayer1\n",
        "partial_weightsum1_weight1 = X_train_np\n",
        "# print(partial_cost_predictions_sum)"
      ],
      "metadata": {
        "colab": {
          "base_uri": "https://localhost:8080/"
        },
        "id": "Sw5OmTJttxyD",
        "outputId": "5322f053-3ec9-4c4c-d489-f5a0cebeb0e4"
      },
      "execution_count": 73,
      "outputs": [
        {
          "output_type": "stream",
          "name": "stdout",
          "text": [
            "[[ 0.09586644  0.09717872  0.09432166 ...  0.10783294  0.09395957\n",
            "   0.10302705]\n",
            " [-0.00349649  0.09731002  0.09482329 ...  0.10560005  0.09416426\n",
            "   0.1037159 ]\n",
            " [ 0.09881673  0.09674836  0.10211886 ...  0.10570862  0.10359044\n",
            "   0.09557577]\n",
            " ...\n",
            " [ 0.10110892  0.09590399  0.1005728  ...  0.09854961  0.10031298\n",
            "   0.1014564 ]\n",
            " [ 0.09653915  0.09734041  0.0946222  ...  0.10582225  0.0947194\n",
            "   0.10260378]\n",
            " [ 0.10645501  0.09523202  0.09905041 ...  0.10398752 -0.00139617\n",
            "   0.095756  ]]\n"
          ]
        }
      ]
    },
    {
      "cell_type": "code",
      "source": [
        "eta = 0.1\n",
        "weights2_2 = -eta*avg_grad_w + weights2.T\n",
        "weights2_2 = weights2_2.T\n",
        "bias_2 = -eta*avg_grad_b + biasMatrix\n",
        "# print(weights2_2)\n",
        "# print(bias_2)"
      ],
      "metadata": {
        "id": "7DWbqKSV1YPw"
      },
      "execution_count": 66,
      "outputs": []
    },
    {
      "cell_type": "code",
      "source": [],
      "metadata": {
        "id": "-vTgtkEHr_uK"
      },
      "execution_count": null,
      "outputs": []
    },
    {
      "cell_type": "markdown",
      "source": [],
      "metadata": {
        "id": "eqkoNOYar5mP"
      }
    }
  ]
}