{
  "nbformat": 4,
  "nbformat_minor": 0,
  "metadata": {
    "colab": {
      "provenance": [],
      "include_colab_link": true
    },
    "kernelspec": {
      "name": "python3",
      "display_name": "Python 3"
    },
    "language_info": {
      "name": "python"
    }
  },
  "cells": [
    {
      "cell_type": "markdown",
      "metadata": {
        "id": "view-in-github",
        "colab_type": "text"
      },
      "source": [
        "<a href=\"https://colab.research.google.com/github/flanaganc04/My-own-Neural-Net/blob/main/Digit_Recognizer.ipynb\" target=\"_parent\"><img src=\"https://colab.research.google.com/assets/colab-badge.svg\" alt=\"Open In Colab\"/></a>"
      ]
    },
    {
      "cell_type": "markdown",
      "source": [
        "# Import Packages"
      ],
      "metadata": {
        "id": "nceuyrNqsD2x"
      }
    },
    {
      "cell_type": "code",
      "execution_count": 1,
      "metadata": {
        "id": "WVg2-ZWamHmU"
      },
      "outputs": [],
      "source": [
        "from google.colab import drive\n",
        "import os\n",
        "import datetime\n",
        "# import matplotlib as mpl\n",
        "# import matplotlib.pyplot as plt\n",
        "import numpy as np\n",
        "import pandas as pd\n",
        "import random\n",
        "import math"
      ]
    },
    {
      "cell_type": "markdown",
      "source": [
        "# Mount Google Drive"
      ],
      "metadata": {
        "id": "1VLs8QoVsHuZ"
      }
    },
    {
      "cell_type": "code",
      "source": [
        "# Mount Google Drive and try not to get yelled at\n",
        "drive.mount('/content/drive')"
      ],
      "metadata": {
        "colab": {
          "base_uri": "https://localhost:8080/"
        },
        "id": "PCOcf0EUkzoU",
        "outputId": "1bfd9eb2-104a-4cf6-f2e4-7aad1aa8cde0"
      },
      "execution_count": 2,
      "outputs": [
        {
          "output_type": "stream",
          "name": "stdout",
          "text": [
            "Mounted at /content/drive\n"
          ]
        }
      ]
    },
    {
      "cell_type": "markdown",
      "source": [
        "# Functions"
      ],
      "metadata": {
        "id": "0jqKrFF9sPn1"
      }
    },
    {
      "cell_type": "code",
      "source": [
        "def hiddenLayer(neurons: int, matrix: np.ndarray) -> np.ndarray:\n",
        "    \"\"\"\n",
        "    Builds a random weight matrix, multiplies it by the transpose\n",
        "    of the input matrix, and returns the resulting hidden layer matrix and weight matrix for later in backpropagation.\n",
        "\n",
        "    Parameters\n",
        "    ----------\n",
        "    neurons : int\n",
        "        Number of neurons in the layer.\n",
        "    matrix : np.ndarray\n",
        "        Input data (e.g., training or testing data).\n",
        "\n",
        "    Returns\n",
        "    -------\n",
        "    np.ndarray\n",
        "        The computed hidden layer matrix and the weight matrix.\n",
        "    \"\"\"\n",
        "\n",
        "    # Create a random weight matrix with values uniformly distributed between -1 and 1\n",
        "    weightMatrix = np.random.uniform(low=-1.0, high=1.0, size=(neurons, matrix.shape[1]))\n",
        "    # Compute the hidden layer activations by performing matrix multiplication\n",
        "    hiddenMatrix = matrix @ weightMatrix.T\n",
        "    # Return both the hidden layer activations and the weight matrix\n",
        "    return hiddenMatrix, weightMatrix"
      ],
      "metadata": {
        "id": "cxRtk4vTm-cC"
      },
      "execution_count": 3,
      "outputs": []
    },
    {
      "cell_type": "code",
      "source": [
        "def softMax(matrix: np.ndarray) -> np.ndarray:\n",
        "  \"\"\"\n",
        "    Takes a matrix, and applies the soft max function to each element. x_i,j = e^(x_i,j)/sum(e^(x_i,j)). So take the exponential of the rows, sum it, and divide each element by that sum.\n",
        "\n",
        "    Parameters\n",
        "    ----------\n",
        "    matrix : np.ndarray\n",
        "        Array in which soft max should be applied (e.g., hidden layer or output layer).\n",
        "\n",
        "    Returns\n",
        "    -------\n",
        "    np.ndarray\n",
        "        The computed soft max matrix.\n",
        "    \"\"\"\n",
        "  for y in range(matrix.shape[0]):\n",
        "    sum = 0\n",
        "    # Compute the denominator: sum of exponentials for each row\n",
        "    try:\n",
        "      for x in range(matrix.shape[1]):\n",
        "        sum += math.exp(matrix[y][x])\n",
        "    except OverflowError:\n",
        "      print(f'Sum e^(x_i) OverflowError: row:{y} and column:{x}')\n",
        "    except ZeroDivisionError:\n",
        "      print(f'Sum e^(x_i) OverflowError: row:{y} and column:{x}')\n",
        "    # Apply softmax normalization for each element in the row\n",
        "    try:\n",
        "      for x in range(matrix.shape[1]):\n",
        "        matrix[y][x] = math.exp(matrix[y][x]) / sum\n",
        "    except OverflowError:\n",
        "      print(f'[e^(x_i)/sum] OverflowError: row:{y} and column:{x}')\n",
        "    except ZeroDivisionError:\n",
        "      print(f'[e^(x_i)/sum] OverflowError: row:{y} and column:{x}')\n",
        "  # Return the softmax-normalized matrix\n",
        "  return matrix"
      ],
      "metadata": {
        "id": "X8dvV0DKw0rM"
      },
      "execution_count": 4,
      "outputs": []
    },
    {
      "cell_type": "code",
      "source": [
        "def ForwardProp()"
      ],
      "metadata": {
        "id": "Jxfyml8_Aquo"
      },
      "execution_count": null,
      "outputs": []
    },
    {
      "cell_type": "code",
      "source": [
        "def OneHotEncoder(matrix: np.ndarray) -> np.ndarray:\n",
        "    \"\"\"\n",
        "    Convert an integer label matrix (values 0..N) into a one-hot encoded matrix.\n",
        "\n",
        "    Parameters\n",
        "    ----------\n",
        "    matrix : np.ndarray\n",
        "        Input array of integer class labels (shape: (n_samples,) or (n_samples, 1)).\n",
        "\n",
        "    Returns\n",
        "    -------\n",
        "    one_hot_matrix : np.ndarray\n",
        "        One-hot encoded array of shape (n_samples, num_classes).\n",
        "    \"\"\"\n",
        "    # Ensure integer dtype (in case it's float or object from pandas)\n",
        "    matrix = matrix.astype(int).flatten()\n",
        "    # Determine number of classes (assumes classes are labeled 0..N)\n",
        "    num_classes = np.max(matrix) + 1\n",
        "    # Create one-hot encoding\n",
        "    one_hot_matrix = np.eye(num_classes)[matrix]\n",
        "    return one_hot_matrix"
      ],
      "metadata": {
        "id": "hnYLI_vy14CV"
      },
      "execution_count": 5,
      "outputs": []
    },
    {
      "cell_type": "markdown",
      "source": [
        "# Read Data"
      ],
      "metadata": {
        "id": "T5LZdokSsRwI"
      }
    },
    {
      "cell_type": "code",
      "source": [
        "# Import data\n",
        "test_data = pd.read_csv('/content/drive/MyDrive/Digit Recognizer/mnist_test.csv')\n",
        "train_data = pd.read_csv('/content/drive/MyDrive/Digit Recognizer/mnist_train.csv')\n",
        "\n",
        "X_train = train_data.iloc[0:, 1:]  # Features\n",
        "X_train_np = X_train.to_numpy() *(1/255)#\n",
        "# print(X_train_np[0])\n",
        "\n",
        "Y_train = train_data.iloc[0:, 0:1]   # Target variable\n",
        "Y_train_np = Y_train.to_numpy()\n",
        "# print(Y_train)\n",
        "\n",
        "X_test = test_data.iloc[1:, 1:]  # Features\n",
        "X_test_np = X_test.to_numpy() *(1/255)\n",
        "# print(X_test)\n",
        "\n",
        "Y_test = test_data.iloc[1:, 0:1]   # Target variable\n",
        "Y_test_np = Y_test.to_numpy()\n",
        "# print(Y_test)"
      ],
      "metadata": {
        "id": "r32uLwu5muxd",
        "collapsed": true
      },
      "execution_count": 6,
      "outputs": []
    },
    {
      "cell_type": "markdown",
      "source": [
        "# Forward Propagation 1"
      ],
      "metadata": {
        "id": "HmFy5EZsscgp"
      }
    },
    {
      "cell_type": "code",
      "source": [
        "# Make layer 1\n",
        "layer1, weights1 = hiddenLayer(25, X_train_np)\n",
        "softLayer1 = softMax(layer1)"
      ],
      "metadata": {
        "id": "qa_0tVK1hgpR",
        "collapsed": true
      },
      "execution_count": 7,
      "outputs": []
    },
    {
      "cell_type": "code",
      "source": [
        "# Make layer 2\n",
        "layer2, weights2 = hiddenLayer(10, softLayer1)\n",
        "softLayer2 = softMax(layer2)"
      ],
      "metadata": {
        "id": "ZtCii97GuTJg",
        "collapsed": true
      },
      "execution_count": 8,
      "outputs": []
    },
    {
      "cell_type": "code",
      "source": [
        "# print(layer2[5])"
      ],
      "metadata": {
        "id": "fc3gqtSa1FuY",
        "collapsed": true
      },
      "execution_count": 9,
      "outputs": []
    },
    {
      "cell_type": "code",
      "source": [
        "biasMatrix = np.ones(softLayer2.shape)\n",
        "biasMatrix = np.array(biasMatrix)\n",
        "outputMatrix = softLayer2 + biasMatrix\n",
        "# print(outputMatrix[0])"
      ],
      "metadata": {
        "id": "hCD8tDoRovyB"
      },
      "execution_count": 10,
      "outputs": []
    },
    {
      "cell_type": "code",
      "source": [
        "softOput = softMax(outputMatrix)\n",
        "# print(softOput[0])"
      ],
      "metadata": {
        "id": "PmhPAn0OwamY"
      },
      "execution_count": 11,
      "outputs": []
    },
    {
      "cell_type": "markdown",
      "source": [
        "# Back Propagation 1"
      ],
      "metadata": {
        "id": "AT078cwnsiyZ"
      }
    },
    {
      "cell_type": "code",
      "source": [
        "# cce for the 2nd hidden layer\n",
        "Y_train_onehot = OneHotEncoder(Y_train_np)\n",
        "# print(Y_train_onehot.shape)\n",
        "# print(Y_train_onehot)\n",
        "output_square = Y_train_onehot\n",
        "logOput = np.log(softOput)\n",
        "CCE = -np.sum((output_square * logOput), axis = 1)\n",
        "CCE_avg = np.mean(CCE)\n",
        "# print(CCE_avg)\n",
        "# print(CCE)"
      ],
      "metadata": {
        "id": "cgRQuwoo1ykM"
      },
      "execution_count": 12,
      "outputs": []
    },
    {
      "cell_type": "code",
      "source": [
        "# ∂CCCE/∂W\n",
        "# backprop layer for the 2nd hidden layer\n",
        "partial_cost_predictions = -logOput\n",
        "partial_activation_weightsum = np.ones(logOput.shape)\n",
        "partial_weightsum_weight = layer2\n",
        "partial_weightsum_bias = np.ones(layer2.shape)\n",
        "\n",
        "gradient_w = partial_cost_predictions * partial_activation_weightsum * partial_weightsum_weight\n",
        "gradient_b = partial_cost_predictions * partial_activation_weightsum * partial_weightsum_bias\n",
        "avg_grad_w = np.mean(gradient_w, axis = 0, keepdims=True)\n",
        "avg_grad_b = np.mean(gradient_b, axis = 0, keepdims=True)\n",
        "# print(avg_grad_w)\n",
        "# print(avg_grad_w)"
      ],
      "metadata": {
        "id": "mO8pvWe6u_CT"
      },
      "execution_count": 13,
      "outputs": []
    },
    {
      "cell_type": "code",
      "source": [
        "# ∂CCCE/∂W\n",
        "# backprop layer for the 1st hidden layer\n",
        "partial_cost_predictions2_sum2 = softOput - Y_train_onehot*(1/Y_train_onehot.shape[0])\n",
        "partial_weightsum2_weight2 = weights2\n",
        "temp = partial_cost_predictions2_sum2 @ weights2\n",
        "partial_weightsum1_weight1 = X_train_np\n",
        "gradient_w1 = temp.T @ partial_weightsum1_weight1\n",
        "# print(partial_cost_predictions_sum)"
      ],
      "metadata": {
        "id": "Sw5OmTJttxyD"
      },
      "execution_count": 29,
      "outputs": []
    },
    {
      "cell_type": "code",
      "source": [
        "eta = 0.1\n",
        "weights2_2 = -eta*avg_grad_w + weights2.T\n",
        "weights2_2 = weights2_2.T\n",
        "bias_2 = -eta*avg_grad_b + biasMatrix\n",
        "\n",
        "weights1_2 = -eta*gradient_w1 + weights1\n",
        "weights1_2 = weights1_2.T\n",
        "# print(weights2_2)\n",
        "print(weights1_2)\n",
        "# print(bias_2)"
      ],
      "metadata": {
        "id": "7DWbqKSV1YPw",
        "colab": {
          "base_uri": "https://localhost:8080/"
        },
        "outputId": "85c20302-4147-4ed0-c80b-0de9549981cd"
      },
      "execution_count": 31,
      "outputs": [
        {
          "output_type": "stream",
          "name": "stdout",
          "text": [
            "[[-0.67533149  0.11666411  0.7228179  ...  0.54347909 -0.20669654\n",
            "   0.66041637]\n",
            " [ 0.83713727  0.53910653  0.76926672 ... -0.48300898 -0.82072687\n",
            "  -0.38406557]\n",
            " [-0.5023125  -0.44038706  0.72621272 ...  0.88206873 -0.23032368\n",
            "  -0.21242735]\n",
            " ...\n",
            " [ 0.11413399 -0.89505935  0.6137933  ... -0.93735846 -0.89964051\n",
            "   0.42357732]\n",
            " [ 0.1997963  -0.02074437  0.85047283 ...  0.935407    0.71521986\n",
            "   0.87707217]\n",
            " [ 0.81946068 -0.08832096 -0.70074192 ... -0.45948359 -0.27952952\n",
            "  -0.51354605]]\n"
          ]
        }
      ]
    },
    {
      "cell_type": "markdown",
      "source": [
        "Forward Propogation 2"
      ],
      "metadata": {
        "id": "eqkoNOYar5mP"
      }
    },
    {
      "cell_type": "code",
      "source": [],
      "metadata": {
        "id": "8PPjXL7IAIxy"
      },
      "execution_count": null,
      "outputs": []
    }
  ]
}