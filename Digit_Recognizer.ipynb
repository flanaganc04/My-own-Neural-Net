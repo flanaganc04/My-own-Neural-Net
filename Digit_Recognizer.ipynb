{
  "nbformat": 4,
  "nbformat_minor": 0,
  "metadata": {
    "colab": {
      "provenance": [],
      "authorship_tag": "ABX9TyMaWSUVQc8gP1hUjpaR/ROQ",
      "include_colab_link": true
    },
    "kernelspec": {
      "name": "python3",
      "display_name": "Python 3"
    },
    "language_info": {
      "name": "python"
    }
  },
  "cells": [
    {
      "cell_type": "markdown",
      "metadata": {
        "id": "view-in-github",
        "colab_type": "text"
      },
      "source": [
        "<a href=\"https://colab.research.google.com/github/flanaganc04/My-own-Neural-Net/blob/main/Digit_Recognizer.ipynb\" target=\"_parent\"><img src=\"https://colab.research.google.com/assets/colab-badge.svg\" alt=\"Open In Colab\"/></a>"
      ]
    },
    {
      "cell_type": "code",
      "execution_count": null,
      "metadata": {
        "id": "WVg2-ZWamHmU"
      },
      "outputs": [],
      "source": [
        "# Import packages\n",
        "from google.colab import drive\n",
        "import os\n",
        "import datetime\n",
        "import matplotlib as mpl\n",
        "import matplotlib.pyplot as plt\n",
        "import numpy as np\n",
        "import pandas as pd\n",
        "import random"
      ]
    },
    {
      "cell_type": "code",
      "source": [
        "# Mount Google Drive and try not to get yelled at\n",
        "drive.mount('/content/drive')"
      ],
      "metadata": {
        "colab": {
          "base_uri": "https://localhost:8080/"
        },
        "id": "PCOcf0EUkzoU",
        "outputId": "83593cec-4362-400b-9b16-bbdece5f3fef"
      },
      "execution_count": null,
      "outputs": [
        {
          "output_type": "stream",
          "name": "stdout",
          "text": [
            "Drive already mounted at /content/drive; to attempt to forcibly remount, call drive.mount(\"/content/drive\", force_remount=True).\n"
          ]
        }
      ]
    },
    {
      "cell_type": "code",
      "source": [
        "# Import data\n",
        "train_data = pd.read_csv('/content/drive/MyDrive/Digit Recognizer/mnist_test.csv')\n",
        "test_data = pd.read_csv('/content/drive/MyDrive/Digit Recognizer/mnist_train.csv')\n",
        "X_train = train_data.iloc[:, 2:-1]  # Features\n",
        "X_train_np = X_train.to_numpy()\n",
        "# print(X_train)\n",
        "Y_train = test_data.iloc[:, 0]   # Target variable\n",
        "Y_train_np = Y_train.to_numpy()\n",
        "# print(Y_train)\n",
        "X_test = test_data.iloc[:, 2:-1]  # Features\n",
        "X_test_np = X_test.to_numpy()\n",
        "# print(X_test)\n",
        "Y_test = test_data.iloc[:, 0]   # Target variable\n",
        "Y_test_np = Y_test.to_numpy()\n",
        "# print(Y_test)"
      ],
      "metadata": {
        "id": "r32uLwu5muxd"
      },
      "execution_count": null,
      "outputs": []
    },
    {
      "cell_type": "code",
      "source": [
        "# Make a Weight Matrix of random values between 0-1. The grayscale values are between 0-255. If this needs to be a larger value than we can change the random function's bounds.\n",
        "weightMatrix = np.ones(shape=X_train.shape)\n",
        "# print(weightMatrix)\n",
        "for row in range(weightMatrix.shape[0]):\n",
        "  for column in range(weightMatrix.shape[1]):\n",
        "    weightMatrix[row][column] = random.random()\n",
        "# print(weightMatrix)"
      ],
      "metadata": {
        "colab": {
          "base_uri": "https://localhost:8080/"
        },
        "id": "qa_0tVK1hgpR",
        "outputId": "64d78648-7669-4b69-dcc2-7c5cb7cdb142"
      },
      "execution_count": null,
      "outputs": [
        {
          "output_type": "stream",
          "name": "stdout",
          "text": [
            "[[1. 1. 1. ... 1. 1. 1.]\n",
            " [1. 1. 1. ... 1. 1. 1.]\n",
            " [1. 1. 1. ... 1. 1. 1.]\n",
            " ...\n",
            " [1. 1. 1. ... 1. 1. 1.]\n",
            " [1. 1. 1. ... 1. 1. 1.]\n",
            " [1. 1. 1. ... 1. 1. 1.]]\n",
            "[[0.01908403 0.90918571 0.93786958 ... 0.82115812 0.91016108 0.42782661]\n",
            " [0.31485667 0.11290535 0.01444155 ... 0.72712966 0.85452054 0.43448689]\n",
            " [0.30546036 0.95414418 0.13975122 ... 0.48089571 0.29348348 0.1641993 ]\n",
            " ...\n",
            " [0.98118544 0.04154033 0.21992921 ... 0.26680357 0.20145791 0.98044492]\n",
            " [0.29635387 0.09758601 0.64649326 ... 0.19291603 0.10360904 0.72935338]\n",
            " [0.04541226 0.05260132 0.50386961 ... 0.31804724 0.82027132 0.26209924]]\n"
          ]
        }
      ]
    },
    {
      "cell_type": "code",
      "source": [
        "biasMatrix = np.ones(shape=(10000,1))\n",
        "print(biasMatrix)"
      ],
      "metadata": {
        "colab": {
          "base_uri": "https://localhost:8080/"
        },
        "id": "aju0hDuAj75e",
        "outputId": "5f5f7206-5164-4dfa-910a-f6a7149e6e3e"
      },
      "execution_count": null,
      "outputs": [
        {
          "output_type": "stream",
          "name": "stdout",
          "text": [
            "[[1.]\n",
            " [1.]\n",
            " [1.]\n",
            " ...\n",
            " [1.]\n",
            " [1.]\n",
            " [1.]]\n"
          ]
        }
      ]
    },
    {
      "cell_type": "code",
      "source": [
        "# Create a temporary matrix to hold some stuff, mainly, we are multiplying all the inputs by all of their respective weights\n",
        "tempMatrix = np.ones(shape=X_train.shape)\n",
        "# print(tempMatrix)\n",
        "for row in range(X_train.shape[0]):\n",
        "  for column in range(X_train.shape[1]):\n",
        "    tempMatrix[row][column] = X_train_np[row][column] * weightMatrix[row][column]\n",
        "\n"
      ],
      "metadata": {
        "id": "mnbKwWsIp_M7"
      },
      "execution_count": null,
      "outputs": []
    },
    {
      "cell_type": "code",
      "source": [
        "newTempMatrix = np.zeros(shape=(10000,1))\n",
        "# print(newTempMatrix)\n",
        "for row in range(tempMatrix.shape[0]):\n",
        "  tempValue=0\n",
        "  for column in range(tempMatrix.shape[1]):\n",
        "    tempValue += tempMatrix[row][column]\n",
        "  newTempMatrix[row][0] = tempValue\n",
        "# print(newTempMatrix)"
      ],
      "metadata": {
        "id": "_79Humckq2em",
        "collapsed": true
      },
      "execution_count": null,
      "outputs": []
    },
    {
      "cell_type": "code",
      "source": [
        "  outputMatrix = np.zeros(shape=(10000,1))\n",
        "  for row in range(newTempMatrix.shape[0]):\n",
        "    outputMatrix[row][0] = newTempMatrix[row][0] + biasMatrix[row][0]\n",
        "  print(outputMatrix)"
      ],
      "metadata": {
        "colab": {
          "base_uri": "https://localhost:8080/"
        },
        "id": "9ZEz4dIktecl",
        "outputId": "baaa84ff-fa42-4ec3-cab7-99b52ece10a6"
      },
      "execution_count": null,
      "outputs": [
        {
          "output_type": "stream",
          "name": "stdout",
          "text": [
            "[[ 8714.31625865]\n",
            " [15242.14576742]\n",
            " [ 4632.9927989 ]\n",
            " ...\n",
            " [14573.57687919]\n",
            " [13097.50307593]\n",
            " [22285.26028529]]\n"
          ]
        }
      ]
    },
    {
      "cell_type": "code",
      "source": [],
      "metadata": {
        "id": "ZtCii97GuTJg"
      },
      "execution_count": null,
      "outputs": []
    }
  ]
}