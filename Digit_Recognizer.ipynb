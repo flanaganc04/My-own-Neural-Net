{
  "nbformat": 4,
  "nbformat_minor": 0,
  "metadata": {
    "colab": {
      "provenance": [],
      "include_colab_link": true
    },
    "kernelspec": {
      "name": "python3",
      "display_name": "Python 3"
    },
    "language_info": {
      "name": "python"
    }
  },
  "cells": [
    {
      "cell_type": "markdown",
      "metadata": {
        "id": "view-in-github",
        "colab_type": "text"
      },
      "source": [
        "<a href=\"https://colab.research.google.com/github/flanaganc04/My-own-Neural-Net/blob/main/Digit_Recognizer.ipynb\" target=\"_parent\"><img src=\"https://colab.research.google.com/assets/colab-badge.svg\" alt=\"Open In Colab\"/></a>"
      ]
    },
    {
      "cell_type": "code",
      "execution_count": 42,
      "metadata": {
        "id": "WVg2-ZWamHmU"
      },
      "outputs": [],
      "source": [
        "# Import packages\n",
        "from google.colab import drive\n",
        "import os\n",
        "import datetime\n",
        "# import matplotlib as mpl\n",
        "# import matplotlib.pyplot as plt\n",
        "import numpy as np\n",
        "import pandas as pd\n",
        "import random\n",
        "import math"
      ]
    },
    {
      "cell_type": "code",
      "source": [
        "# Mount Google Drive and try not to get yelled at\n",
        "drive.mount('/content/drive')"
      ],
      "metadata": {
        "colab": {
          "base_uri": "https://localhost:8080/"
        },
        "id": "PCOcf0EUkzoU",
        "outputId": "1a7a20fb-88e4-4030-a55d-b0747bd78402"
      },
      "execution_count": 43,
      "outputs": [
        {
          "output_type": "stream",
          "name": "stdout",
          "text": [
            "Drive already mounted at /content/drive; to attempt to forcibly remount, call drive.mount(\"/content/drive\", force_remount=True).\n"
          ]
        }
      ]
    },
    {
      "cell_type": "code",
      "source": [
        "def hiddenLayer(neurons: int, matrix: np.ndarray) -> np.ndarray:\n",
        "    \"\"\"\n",
        "    Builds a random weight matrix, multiplies it by the transpose\n",
        "    of the input matrix, and returns the resulting hidden layer matrix and weight matrix for later in backpropagation.\n",
        "\n",
        "    Parameters\n",
        "    ----------\n",
        "    neurons : int\n",
        "        Number of neurons in the layer.\n",
        "    matrix : np.ndarray\n",
        "        Input data (e.g., training or testing data).\n",
        "\n",
        "    Returns\n",
        "    -------\n",
        "    np.ndarray\n",
        "        The computed hidden layer matrix and the weight matrix.\n",
        "    \"\"\"\n",
        "\n",
        "    # Create a random weight matrix with values uniformly distributed between -1 and 1\n",
        "    weightMatrix = np.random.uniform(low=-1.0, high=1.0, size=(neurons, matrix.shape[1]))\n",
        "    # Compute the hidden layer activations by performing matrix multiplication\n",
        "    hiddenMatrix = matrix @ weightMatrix.T\n",
        "    # Return both the hidden layer activations and the weight matrix\n",
        "    return hiddenMatrix, weightMatrix\n",
        "\n"
      ],
      "metadata": {
        "id": "cxRtk4vTm-cC"
      },
      "execution_count": 44,
      "outputs": []
    },
    {
      "cell_type": "code",
      "source": [
        "def softMax(matrix: np.ndarray) -> np.ndarray:\n",
        "  \"\"\"\n",
        "    Takes a matrix, and applies the soft max function to each element. x_i,j = e^(x_i,j)/sum(e^(x_i,j)). So take the exponential of the rows, sum it, and divide each element by that sum.\n",
        "\n",
        "    Parameters\n",
        "    ----------\n",
        "    matrix : np.ndarray\n",
        "        Array in which soft max should be applied (e.g., hidden layer or output layer).\n",
        "\n",
        "    Returns\n",
        "    -------\n",
        "    np.ndarray\n",
        "        The computed soft max matrix.\n",
        "    \"\"\"\n",
        "  for y in range(matrix.shape[0]):\n",
        "    sum = 0\n",
        "    # Compute the denominator: sum of exponentials for each row\n",
        "    try:\n",
        "      for x in range(matrix.shape[1]):\n",
        "        sum += math.exp(matrix[y][x])\n",
        "    except OverflowError:\n",
        "      print(f'Sum e^(x_i) OverflowError: row:{y} and column:{x}')\n",
        "    except ZeroDivisionError:\n",
        "      print(f'Sum e^(x_i) OverflowError: row:{y} and column:{x}')\n",
        "    # Apply softmax normalization for each element in the row\n",
        "    try:\n",
        "      for x in range(matrix.shape[1]):\n",
        "        matrix[y][x] = math.exp(matrix[y][x]) / sum\n",
        "    except OverflowError:\n",
        "      print(f'[e^(x_i)/sum] OverflowError: row:{y} and column:{x}')\n",
        "    except ZeroDivisionError:\n",
        "      print(f'[e^(x_i)/sum] OverflowError: row:{y} and column:{x}')\n",
        "  # Return the softmax-normalized matrix\n",
        "  return matrix"
      ],
      "metadata": {
        "id": "X8dvV0DKw0rM"
      },
      "execution_count": 45,
      "outputs": []
    },
    {
      "cell_type": "code",
      "source": [
        "def OneHotEncoder(matrix: np.ndarray) -> np.ndarray:\n",
        "    \"\"\"\n",
        "    Convert an integer label matrix (values 0..N) into a one-hot encoded matrix.\n",
        "\n",
        "    Parameters\n",
        "    ----------\n",
        "    matrix : np.ndarray\n",
        "        Input array of integer class labels (shape: (n_samples,) or (n_samples, 1)).\n",
        "\n",
        "    Returns\n",
        "    -------\n",
        "    one_hot_matrix : np.ndarray\n",
        "        One-hot encoded array of shape (n_samples, num_classes).\n",
        "    \"\"\"\n",
        "    # Ensure integer dtype (in case it's float or object from pandas)\n",
        "    matrix = matrix.astype(int).flatten()\n",
        "    # Determine number of classes (assumes classes are labeled 0..N)\n",
        "    num_classes = np.max(matrix) + 1\n",
        "    # Create one-hot encoding\n",
        "    one_hot_matrix = np.eye(num_classes)[matrix]\n",
        "    return one_hot_matrix\n"
      ],
      "metadata": {
        "id": "hnYLI_vy14CV"
      },
      "execution_count": 57,
      "outputs": []
    },
    {
      "cell_type": "code",
      "source": [
        "# Import data\n",
        "test_data = pd.read_csv('/content/drive/MyDrive/Digit Recognizer/mnist_test.csv')\n",
        "train_data = pd.read_csv('/content/drive/MyDrive/Digit Recognizer/mnist_train.csv')\n",
        "\n",
        "X_train = train_data.iloc[0:, 1:]  # Features\n",
        "X_train_np = X_train.to_numpy() *(1/255)#\n",
        "# print(X_train_np[0])\n",
        "\n",
        "Y_train = train_data.iloc[0:, 0:1]   # Target variable\n",
        "Y_train_np = Y_train.to_numpy()\n",
        "# print(Y_train)\n",
        "\n",
        "X_test = test_data.iloc[1:, 1:]  # Features\n",
        "X_test_np = X_test.to_numpy() *(1/255)\n",
        "# print(X_test)\n",
        "\n",
        "Y_test = test_data.iloc[1:, 0:1]   # Target variable\n",
        "Y_test_np = Y_test.to_numpy()\n",
        "# print(Y_test)"
      ],
      "metadata": {
        "id": "r32uLwu5muxd",
        "collapsed": true
      },
      "execution_count": 47,
      "outputs": []
    },
    {
      "cell_type": "code",
      "source": [
        "# Make layer 1\n",
        "layer1, weights1 = hiddenLayer(25, X_train_np)\n",
        "softLayer1 = softMax(layer1)\n"
      ],
      "metadata": {
        "id": "qa_0tVK1hgpR",
        "collapsed": true
      },
      "execution_count": 48,
      "outputs": []
    },
    {
      "cell_type": "code",
      "source": [
        "# Make layer 2\n",
        "layer2, weights2 = hiddenLayer(10, softLayer1)\n",
        "softLayer2 = softMax(layer2)\n"
      ],
      "metadata": {
        "id": "ZtCii97GuTJg",
        "collapsed": true
      },
      "execution_count": 49,
      "outputs": []
    },
    {
      "cell_type": "code",
      "source": [
        "print(layer2[5])"
      ],
      "metadata": {
        "id": "fc3gqtSa1FuY",
        "colab": {
          "base_uri": "https://localhost:8080/"
        },
        "outputId": "6da0106c-7a97-454b-9d22-d78c1145ac27"
      },
      "execution_count": 50,
      "outputs": [
        {
          "output_type": "stream",
          "name": "stdout",
          "text": [
            "[0.08331298 0.13982028 0.05443507 0.14321315 0.0622096  0.18202432\n",
            " 0.03333699 0.076241   0.15414874 0.07125788]\n"
          ]
        }
      ]
    },
    {
      "cell_type": "code",
      "source": [
        "biasMatrix = np.ones((1,10))\n",
        "biasMatrix = np.array(biasMatrix)\n",
        "outputMatrix = softLayer2 + biasMatrix\n",
        "print(outputMatrix[0])"
      ],
      "metadata": {
        "id": "hCD8tDoRovyB",
        "colab": {
          "base_uri": "https://localhost:8080/"
        },
        "outputId": "ec13a22e-90bf-4566-a0be-aaec8045384c"
      },
      "execution_count": 51,
      "outputs": [
        {
          "output_type": "stream",
          "name": "stdout",
          "text": [
            "[1.159936   1.10952711 1.08795249 1.03532658 1.16024736 1.1166047\n",
            " 1.05313956 1.03179493 1.0903607  1.15511056]\n"
          ]
        }
      ]
    },
    {
      "cell_type": "code",
      "source": [
        "softOput = softMax(outputMatrix)\n",
        "print(softOput[0])"
      ],
      "metadata": {
        "id": "PmhPAn0OwamY",
        "collapsed": true,
        "colab": {
          "base_uri": "https://localhost:8080/"
        },
        "outputId": "4c9690d0-c544-4055-9560-c2c6402d7eeb"
      },
      "execution_count": 52,
      "outputs": [
        {
          "output_type": "stream",
          "name": "stdout",
          "text": [
            "[0.10606087 0.10084698 0.09869454 0.09363495 0.1060939  0.10156326\n",
            " 0.09531782 0.09330485 0.09893251 0.10555031]\n"
          ]
        }
      ]
    },
    {
      "cell_type": "code",
      "source": [
        "indices = np.argmax(softOput, 1)"
      ],
      "metadata": {
        "id": "5zV_09CtuFq-"
      },
      "execution_count": 53,
      "outputs": []
    },
    {
      "cell_type": "code",
      "source": [
        "# print(indices)"
      ],
      "metadata": {
        "id": "FAeUB-KTxjn3"
      },
      "execution_count": 54,
      "outputs": []
    },
    {
      "cell_type": "code",
      "source": [
        "Y_train_onehot = OneHotEncoder(Y_train_np)\n",
        "print(Y_train_onehot.shape)\n",
        "print(Y_train_onehot)"
      ],
      "metadata": {
        "colab": {
          "base_uri": "https://localhost:8080/"
        },
        "id": "Mq66T7T4xlYX",
        "outputId": "b21c3ae5-e4c7-4a45-fdcf-1686776f0dd6"
      },
      "execution_count": 55,
      "outputs": [
        {
          "output_type": "stream",
          "name": "stdout",
          "text": [
            "(60000, 10)\n",
            "[[0. 0. 0. ... 0. 0. 0.]\n",
            " [1. 0. 0. ... 0. 0. 0.]\n",
            " [0. 0. 0. ... 0. 0. 0.]\n",
            " ...\n",
            " [0. 0. 0. ... 0. 0. 0.]\n",
            " [0. 0. 0. ... 0. 0. 0.]\n",
            " [0. 0. 0. ... 0. 1. 0.]]\n"
          ]
        }
      ]
    },
    {
      "cell_type": "code",
      "source": [],
      "metadata": {
        "id": "cgRQuwoo1ykM"
      },
      "execution_count": 55,
      "outputs": []
    }
  ]
}