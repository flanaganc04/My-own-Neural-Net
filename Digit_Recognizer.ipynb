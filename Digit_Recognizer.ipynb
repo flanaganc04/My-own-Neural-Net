{
  "nbformat": 4,
  "nbformat_minor": 0,
  "metadata": {
    "colab": {
      "provenance": [],
      "include_colab_link": true
    },
    "kernelspec": {
      "name": "python3",
      "display_name": "Python 3"
    },
    "language_info": {
      "name": "python"
    }
  },
  "cells": [
    {
      "cell_type": "markdown",
      "metadata": {
        "id": "view-in-github",
        "colab_type": "text"
      },
      "source": [
        "<a href=\"https://colab.research.google.com/github/flanaganc04/My-own-Neural-Net/blob/main/Digit_Recognizer.ipynb\" target=\"_parent\"><img src=\"https://colab.research.google.com/assets/colab-badge.svg\" alt=\"Open In Colab\"/></a>"
      ]
    },
    {
      "cell_type": "code",
      "execution_count": 1,
      "metadata": {
        "id": "WVg2-ZWamHmU"
      },
      "outputs": [],
      "source": [
        "# Import packages\n",
        "from google.colab import drive\n",
        "import os\n",
        "import datetime\n",
        "import matplotlib as mpl\n",
        "import matplotlib.pyplot as plt\n",
        "import numpy as np\n",
        "import pandas as pd\n",
        "import random"
      ]
    },
    {
      "cell_type": "code",
      "source": [
        "# Mount Google Drive and try not to get yelled at\n",
        "drive.mount('/content/drive')"
      ],
      "metadata": {
        "colab": {
          "base_uri": "https://localhost:8080/"
        },
        "id": "PCOcf0EUkzoU",
        "outputId": "cbc3f96d-d6fa-471e-b78f-9ab618921e7c"
      },
      "execution_count": 2,
      "outputs": [
        {
          "output_type": "stream",
          "name": "stdout",
          "text": [
            "Drive already mounted at /content/drive; to attempt to forcibly remount, call drive.mount(\"/content/drive\", force_remount=True).\n"
          ]
        }
      ]
    },
    {
      "cell_type": "code",
      "source": [
        "# Import data\n",
        "train_data = pd.read_csv('/content/drive/MyDrive/Digit Recognizer/mnist_test.csv')\n",
        "test_data = pd.read_csv('/content/drive/MyDrive/Digit Recognizer/mnist_train.csv')\n",
        "X_train = train_data.iloc[1:, 1:]  # Features\n",
        "X_train_np = X_train.to_numpy() *(1/255)#\n",
        "print(X_train)\n",
        "Y_train = train_data.iloc[1:, 0:1]   # Target variable\n",
        "Y_train_np = Y_train.to_numpy()\n",
        "# print(Y_train)\n",
        "X_test = test_data.iloc[1:, 2:-1]  # Features\n",
        "X_test_np = X_test.to_numpy()\n",
        "# print(X_test)\n",
        "Y_test = test_data.iloc[1:, 0:1]   # Target variable\n",
        "Y_test_np = Y_test.to_numpy()\n",
        "# print(Y_test)"
      ],
      "metadata": {
        "id": "r32uLwu5muxd",
        "colab": {
          "base_uri": "https://localhost:8080/"
        },
        "outputId": "bff9552d-ebff-446d-9093-289d81881808"
      },
      "execution_count": 3,
      "outputs": [
        {
          "output_type": "stream",
          "name": "stdout",
          "text": [
            "      1x1  1x2  1x3  1x4  1x5  1x6  1x7  1x8  1x9  1x10  ...  28x19  28x20  \\\n",
            "1       0    0    0    0    0    0    0    0    0     0  ...      0      0   \n",
            "2       0    0    0    0    0    0    0    0    0     0  ...      0      0   \n",
            "3       0    0    0    0    0    0    0    0    0     0  ...      0      0   \n",
            "4       0    0    0    0    0    0    0    0    0     0  ...      0      0   \n",
            "5       0    0    0    0    0    0    0    0    0     0  ...      0      0   \n",
            "...   ...  ...  ...  ...  ...  ...  ...  ...  ...   ...  ...    ...    ...   \n",
            "9995    0    0    0    0    0    0    0    0    0     0  ...      0      0   \n",
            "9996    0    0    0    0    0    0    0    0    0     0  ...      0      0   \n",
            "9997    0    0    0    0    0    0    0    0    0     0  ...      0      0   \n",
            "9998    0    0    0    0    0    0    0    0    0     0  ...      0      0   \n",
            "9999    0    0    0    0    0    0    0    0    0     0  ...      0      0   \n",
            "\n",
            "      28x21  28x22  28x23  28x24  28x25  28x26  28x27  28x28  \n",
            "1         0      0      0      0      0      0      0      0  \n",
            "2         0      0      0      0      0      0      0      0  \n",
            "3         0      0      0      0      0      0      0      0  \n",
            "4         0      0      0      0      0      0      0      0  \n",
            "5         0      0      0      0      0      0      0      0  \n",
            "...     ...    ...    ...    ...    ...    ...    ...    ...  \n",
            "9995      0      0      0      0      0      0      0      0  \n",
            "9996      0      0      0      0      0      0      0      0  \n",
            "9997      0      0      0      0      0      0      0      0  \n",
            "9998      0      0      0      0      0      0      0      0  \n",
            "9999      0      0      0      0      0      0      0      0  \n",
            "\n",
            "[9999 rows x 784 columns]\n"
          ]
        }
      ]
    },
    {
      "cell_type": "code",
      "source": [],
      "metadata": {
        "id": "0m7WczILkEhq"
      },
      "execution_count": 3,
      "outputs": []
    },
    {
      "cell_type": "code",
      "source": [
        "# Make a Weight Matrix of random values between 0-1. The grayscale values are between 0-255. If this needs to be a larger value than we can change the random function's bounds.\n",
        "neurons = 25\n",
        "weightMatrix = np.random.random((neurons, X_train_np.shape[1]))\n",
        "print(weightMatrix)"
      ],
      "metadata": {
        "colab": {
          "base_uri": "https://localhost:8080/"
        },
        "id": "qa_0tVK1hgpR",
        "outputId": "ea8e171d-a994-4a26-b044-0a525c36db27"
      },
      "execution_count": 4,
      "outputs": [
        {
          "output_type": "stream",
          "name": "stdout",
          "text": [
            "[[0.8276875  0.28711815 0.93842028 ... 0.84956109 0.70168498 0.50218887]\n",
            " [0.92275759 0.99996249 0.68464098 ... 0.20062093 0.05935814 0.92931623]\n",
            " [0.2704257  0.60401361 0.16640781 ... 0.71829605 0.52801913 0.09142769]\n",
            " ...\n",
            " [0.04561023 0.27363003 0.95126301 ... 0.30524895 0.99222281 0.97251671]\n",
            " [0.94209927 0.05800139 0.21563979 ... 0.543295   0.69584141 0.25695304]\n",
            " [0.29559804 0.13010959 0.83897832 ... 0.83671053 0.81579622 0.45059663]]\n"
          ]
        }
      ]
    },
    {
      "cell_type": "code",
      "source": [
        "# Create a temporary matrix to hold some stuff, mainly, we are multiplying all the inputs by all of their respective weights\n",
        "tempMatrix = X_train_np @ weightMatrix.T\n",
        "print(tempMatrix)"
      ],
      "metadata": {
        "id": "mnbKwWsIp_M7",
        "colab": {
          "base_uri": "https://localhost:8080/"
        },
        "outputId": "97736e88-779b-466f-d098-fda9ba3411e8"
      },
      "execution_count": 5,
      "outputs": [
        {
          "output_type": "stream",
          "name": "stdout",
          "text": [
            "[[50.04144168 58.29318174 60.1610555  ... 57.17724514 55.98277176\n",
            "  52.84703017]\n",
            " [20.25361096 17.27398397 21.01549063 ... 18.34410952 17.74444738\n",
            "  19.30962152]\n",
            " [74.34219161 75.06915851 75.060169   ... 70.8774124  73.88383069\n",
            "  71.30537064]\n",
            " ...\n",
            " [56.30126406 60.35598103 59.11084119 ... 59.36135999 54.9358611\n",
            "  59.58664846]\n",
            " [51.93255265 53.55436551 53.82900659 ... 52.74311442 49.19601268\n",
            "  51.33916412]\n",
            " [87.18761901 85.55705865 87.45237904 ... 79.6013528  83.1721917\n",
            "  80.60083745]]\n"
          ]
        }
      ]
    },
    {
      "cell_type": "code",
      "source": [
        "neurons2 = 10\n",
        "weightMatrix = np.random.random((neurons2,tempMatrix.shape[1]))\n",
        "print(weightMatrix)"
      ],
      "metadata": {
        "id": "ZtCii97GuTJg",
        "colab": {
          "base_uri": "https://localhost:8080/"
        },
        "outputId": "496d0739-0151-462d-a3be-d380d709074f"
      },
      "execution_count": 6,
      "outputs": [
        {
          "output_type": "stream",
          "name": "stdout",
          "text": [
            "[[0.78274523 0.90483588 0.01654067 0.96012937 0.90183459 0.42164718\n",
            "  0.01905216 0.27897031 0.18843531 0.03305557 0.9039034  0.66919755\n",
            "  0.91568717 0.42971847 0.61141107 0.66242323 0.6061852  0.10762083\n",
            "  0.57092751 0.92003095 0.43784007 0.39660716 0.17837756 0.37244272\n",
            "  0.69576239]\n",
            " [0.6499061  0.92780336 0.59043535 0.73425251 0.2363331  0.45581229\n",
            "  0.98472611 0.91665585 0.19845156 0.86844505 0.93762848 0.58119002\n",
            "  0.23715956 0.16838129 0.85560072 0.71438025 0.51655418 0.97404398\n",
            "  0.69423585 0.55988169 0.62783041 0.11782776 0.34521956 0.45720094\n",
            "  0.20677741]\n",
            " [0.62820469 0.136823   0.5598373  0.68855392 0.49872054 0.56859843\n",
            "  0.59242245 0.19688679 0.03788847 0.83830396 0.99257074 0.07792798\n",
            "  0.75869198 0.31743064 0.77839187 0.78675158 0.55481119 0.81881757\n",
            "  0.20099121 0.34193321 0.40828389 0.51822057 0.53044765 0.17280542\n",
            "  0.98204466]\n",
            " [0.19223304 0.00763016 0.40242496 0.70895528 0.28563236 0.60288344\n",
            "  0.9794947  0.0158011  0.10673914 0.19163725 0.55218585 0.12366692\n",
            "  0.85573791 0.02299266 0.10078822 0.91968017 0.43848945 0.10250353\n",
            "  0.1367951  0.06266234 0.87863418 0.98893334 0.65556749 0.23956205\n",
            "  0.35879464]\n",
            " [0.65662034 0.4726176  0.67871192 0.1438239  0.58766277 0.31217486\n",
            "  0.18807995 0.88467179 0.18290049 0.49631703 0.13725456 0.29971843\n",
            "  0.30423491 0.7049559  0.63772672 0.33036172 0.87305723 0.91921998\n",
            "  0.8484178  0.77004855 0.46445781 0.73048099 0.94987793 0.12737951\n",
            "  0.68707722]\n",
            " [0.50562606 0.26827133 0.81120454 0.51018374 0.9326074  0.85039063\n",
            "  0.97539065 0.23947619 0.04792572 0.33974511 0.43530027 0.4445123\n",
            "  0.57861639 0.38700238 0.80375481 0.55887704 0.68763379 0.58218199\n",
            "  0.31975638 0.13004318 0.69901638 0.0241589  0.69446735 0.01589978\n",
            "  0.15564469]\n",
            " [0.125557   0.74969711 0.60695443 0.02917791 0.02247374 0.92331216\n",
            "  0.28884495 0.17156759 0.99164121 0.3787885  0.55800003 0.2707105\n",
            "  0.24194857 0.02578608 0.70303343 0.67021279 0.14616578 0.27366214\n",
            "  0.48669985 0.18469045 0.58950486 0.93731598 0.25562752 0.02893079\n",
            "  0.15472733]\n",
            " [0.91981054 0.51135976 0.47496715 0.84338634 0.30991846 0.23953975\n",
            "  0.00415506 0.51574779 0.0260963  0.89124035 0.53964107 0.21649257\n",
            "  0.30083995 0.01253032 0.92221942 0.47655743 0.9918218  0.40309115\n",
            "  0.56068621 0.31318838 0.4178021  0.48953108 0.54144738 0.29588942\n",
            "  0.59743321]\n",
            " [0.40195864 0.60448279 0.82790688 0.66793231 0.91109106 0.59498404\n",
            "  0.61007235 0.67024155 0.44461228 0.87531977 0.88316938 0.85009274\n",
            "  0.05857927 0.47090208 0.26772757 0.94216282 0.23018031 0.41433204\n",
            "  0.48188844 0.61208551 0.57358553 0.69721563 0.61317417 0.81469821\n",
            "  0.0581348 ]\n",
            " [0.29302039 0.54853399 0.96619271 0.29474437 0.96171159 0.90491663\n",
            "  0.09021745 0.95438847 0.19110651 0.51379566 0.56959307 0.7032831\n",
            "  0.58351907 0.75267753 0.02047185 0.85815688 0.6277854  0.53206488\n",
            "  0.71717507 0.0232444  0.37581065 0.99423648 0.56100788 0.0230722\n",
            "  0.13377539]]\n"
          ]
        }
      ]
    },
    {
      "cell_type": "code",
      "source": [
        "tempMatrix = tempMatrix@weightMatrix.T\n",
        "print(tempMatrix)"
      ],
      "metadata": {
        "colab": {
          "base_uri": "https://localhost:8080/"
        },
        "id": "GacZSMOUeWI9",
        "outputId": "d656624f-5757-4b4c-8039-f8c30ee4ea45"
      },
      "execution_count": 7,
      "outputs": [
        {
          "output_type": "stream",
          "name": "stdout",
          "text": [
            "[[ 734.42127607  828.01954762  731.36902012 ...  669.00222371\n",
            "   828.24816539  749.9469828 ]\n",
            " [ 251.69775325  285.4215794   255.4478571  ...  233.17285084\n",
            "   282.65096352  260.0162007 ]\n",
            " [ 949.94378111 1063.97688333  942.90256168 ...  866.49334189\n",
            "  1064.12487765  965.79493204]\n",
            " ...\n",
            " [ 751.92939585  838.60545495  744.51987268 ...  683.73117652\n",
            "   836.78383904  759.22185697]\n",
            " [ 676.1956046   755.26324074  671.59429174 ...  618.39075157\n",
            "   754.3950258   687.09717313]\n",
            " [1079.20628243 1204.42931704 1068.76869336 ...  982.51586808\n",
            "  1206.27462487 1094.92005537]]\n"
          ]
        }
      ]
    },
    {
      "cell_type": "code",
      "source": [
        "biasMatrix = np.ones((1,10))\n",
        "biasMatrix = np.array(biasMatrix)\n",
        "outputMatrix = tempMatrix + biasMatrix\n",
        "print(outputMatrix)"
      ],
      "metadata": {
        "colab": {
          "base_uri": "https://localhost:8080/"
        },
        "id": "hCD8tDoRovyB",
        "outputId": "d0d734f5-a36f-4a0b-bbe7-49b12eb80ff3"
      },
      "execution_count": 8,
      "outputs": [
        {
          "output_type": "stream",
          "name": "stdout",
          "text": [
            "[[ 735.42127607  829.01954762  732.36902012 ...  670.00222371\n",
            "   829.24816539  750.9469828 ]\n",
            " [ 252.69775325  286.4215794   256.4478571  ...  234.17285084\n",
            "   283.65096352  261.0162007 ]\n",
            " [ 950.94378111 1064.97688333  943.90256168 ...  867.49334189\n",
            "  1065.12487765  966.79493204]\n",
            " ...\n",
            " [ 752.92939585  839.60545495  745.51987268 ...  684.73117652\n",
            "   837.78383904  760.22185697]\n",
            " [ 677.1956046   756.26324074  672.59429174 ...  619.39075157\n",
            "   755.3950258   688.09717313]\n",
            " [1080.20628243 1205.42931704 1069.76869336 ...  983.51586808\n",
            "  1207.27462487 1095.92005537]]\n"
          ]
        }
      ]
    },
    {
      "cell_type": "code",
      "source": [
        "row_sums = np.sum(outputMatrix, axis=0)\n",
        "print(row_sums)"
      ],
      "metadata": {
        "colab": {
          "base_uri": "https://localhost:8080/"
        },
        "id": "TDnC1IFEwRdP",
        "outputId": "9c63f174-abee-44a2-c5f3-ffd50ae4ab5c"
      },
      "execution_count": 9,
      "outputs": [
        {
          "output_type": "stream",
          "name": "stdout",
          "text": [
            "[6799823.42942917 7613683.92115988 6757114.60832147 5202549.33549496\n",
            " 6995678.83915188 6278938.66711239 5136576.88810114 6191459.37271365\n",
            " 7597475.68602184 6892355.2079042 ]\n"
          ]
        }
      ]
    },
    {
      "cell_type": "code",
      "source": [
        "rowEuler = np.exp(row_sums)\n",
        "print(rowEuler)"
      ],
      "metadata": {
        "colab": {
          "base_uri": "https://localhost:8080/"
        },
        "id": "PmhPAn0OwamY",
        "outputId": "9c5f744b-5999-49cf-8abe-fea3253d2519"
      },
      "execution_count": 10,
      "outputs": [
        {
          "output_type": "stream",
          "name": "stdout",
          "text": [
            "[inf inf inf inf inf inf inf inf inf inf]\n"
          ]
        },
        {
          "output_type": "stream",
          "name": "stderr",
          "text": [
            "/tmp/ipython-input-3617419787.py:1: RuntimeWarning: overflow encountered in exp\n",
            "  rowEuler = np.exp(row_sums)\n"
          ]
        }
      ]
    },
    {
      "cell_type": "code",
      "source": [],
      "metadata": {
        "id": "3kRkeIA3wkdV"
      },
      "execution_count": 10,
      "outputs": []
    }
  ]
}